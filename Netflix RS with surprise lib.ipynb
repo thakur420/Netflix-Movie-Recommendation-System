{
 "cells": [
  {
   "cell_type": "code",
   "execution_count": 1,
   "metadata": {},
   "outputs": [],
   "source": [
    "import pandas as pd\n",
    "import datetime as dt\n",
    "from  tqdm import tqdm\n",
    "from surprise import Reader, Dataset\n",
    "from surprise import BaselineOnly \n",
    "from surprise import accuracy\n",
    "from surprise import KNNBaseline\n",
    "from surprise import SVD,SVDpp\n",
    "from surprise.model_selection import GridSearchCV"
   ]
  },
  {
   "cell_type": "code",
   "execution_count": 2,
   "metadata": {},
   "outputs": [
    {
     "name": "stdout",
     "output_type": "stream",
     "text": [
      "325000\n",
      "22000\n"
     ]
    }
   ],
   "source": [
    "df=pd.read_csv(\"train.csv\",usecols=['movie','user','rating'],nrows=325000)\n",
    "test=pd.read_csv(\"test.csv\",usecols=['movie','user','rating'],nrows=22000)\n",
    "print(df.shape[0])\n",
    "print(test.shape[0])"
   ]
  },
  {
   "cell_type": "markdown",
   "metadata": {},
   "source": [
    "<h1> Transforming data into Suprise lib format </h1> "
   ]
  },
  {
   "cell_type": "code",
   "execution_count": 3,
   "metadata": {},
   "outputs": [],
   "source": [
    "reader = Reader(rating_scale=(1, 5))\n",
    "data = Dataset.load_from_df(df[['user', 'movie', 'rating']], reader=reader)\n",
    "train_data= data.build_full_trainset() "
   ]
  },
  {
   "cell_type": "code",
   "execution_count": 4,
   "metadata": {},
   "outputs": [
    {
     "data": {
      "text/plain": [
       "[(2019776, 3151, 4), (684822, 1645, 4), (1091065, 5836, 3)]"
      ]
     },
     "execution_count": 4,
     "metadata": {},
     "output_type": "execute_result"
    }
   ],
   "source": [
    "testset = list(zip(test.user.values,test.movie.values,test.rating.values))\n",
    "testset[:3]"
   ]
  },
  {
   "cell_type": "code",
   "execution_count": 5,
   "metadata": {},
   "outputs": [
    {
     "name": "stdout",
     "output_type": "stream",
     "text": [
      "Estimating biases using als...\n",
      "---------------------------------------------------------------------------\n",
      "Accuracy for n_epochs : 25\n",
      "RMSE: 0.9590\n",
      "RMSE on Train data: 0.9590395499489365\n",
      "RMSE: 1.1267\n",
      "RMSE on Test data: 1.1266872759877535\n",
      "---------------------------------------------------------------------------\n",
      "Accuracy for n_epochs : 30\n",
      "RMSE: 0.9590\n",
      "RMSE on Train data: 0.9590390037768974\n",
      "RMSE: 1.1267\n",
      "RMSE on Test data: 1.126672601824176\n",
      "---------------------------------------------------------------------------\n",
      "Accuracy for n_epochs : 35\n",
      "RMSE: 0.9590\n",
      "RMSE on Train data: 0.9590388306948688\n",
      "RMSE: 1.1267\n",
      "RMSE on Test data: 1.1266679386074023\n",
      "---------------------------------------------------------------------------\n",
      "Accuracy for n_epochs : 40\n",
      "RMSE: 0.9590\n",
      "RMSE on Train data: 0.9590387757237234\n",
      "RMSE: 1.1267\n",
      "RMSE on Test data: 1.1266664561786224\n",
      "---------------------------------------------------------------------------\n",
      "Accuracy for n_epochs : 45\n",
      "RMSE: 0.9590\n",
      "RMSE on Train data: 0.959038758251683\n",
      "RMSE: 1.1267\n",
      "RMSE on Test data: 1.126665984863157\n",
      "---------------------------------------------------------------------------\n",
      "Accuracy for n_epochs : 50\n",
      "RMSE: 0.9590\n",
      "RMSE on Train data: 0.959038752697039\n",
      "RMSE: 1.1267\n",
      "RMSE on Test data: 1.1266658350101981\n",
      "Time taken: 0:00:59.341113\n"
     ]
    }
   ],
   "source": [
    "start = dt.datetime.now()\n",
    "bsl_options = {'method': 'als'}\n",
    "print(\"Estimating biases using als...\")\n",
    "for i in range(25,51,5):\n",
    "    bsl_options['n_epochs']=i\n",
    "    algo = BaselineOnly(bsl_options=bsl_options,verbose=False)\n",
    "    algo.fit(train_data)\n",
    "    print('-'*75)\n",
    "    print(\"Accuracy for n_epochs :\",i)\n",
    "    predictions = algo.test(train_data.build_testset())\n",
    "    print(\"RMSE on Train data:\",accuracy.rmse(predictions))\n",
    "\n",
    "    predictions = algo.test(testset)\n",
    "    print(\"RMSE on Test data:\",accuracy.rmse(predictions))\n",
    "\n",
    "print(\"Time taken:\",dt.datetime.now()-start)"
   ]
  },
  {
   "cell_type": "code",
   "execution_count": 6,
   "metadata": {},
   "outputs": [
    {
     "name": "stdout",
     "output_type": "stream",
     "text": [
      "Estimating biases using sgd with learning rate 0.001...\n",
      "---------------------------------------------------------------------------\n",
      "Accuracy for n_epochs : 20\n",
      "RMSE: 0.9671\n",
      "RMSE on Train data: 0.9670651058268297\n",
      "RMSE: 1.1275\n",
      "RMSE on Test data: 1.1275127926010793\n",
      "---------------------------------------------------------------------------\n",
      "Accuracy for n_epochs : 25\n",
      "RMSE: 0.9644\n",
      "RMSE on Train data: 0.964396045699053\n",
      "RMSE: 1.1274\n",
      "RMSE on Test data: 1.127412703995411\n",
      "---------------------------------------------------------------------------\n",
      "Accuracy for n_epochs : 30\n",
      "RMSE: 0.9625\n",
      "RMSE on Train data: 0.9624848101047251\n",
      "RMSE: 1.1273\n",
      "RMSE on Test data: 1.1273340034020556\n",
      "---------------------------------------------------------------------------\n",
      "Accuracy for n_epochs : 35\n",
      "RMSE: 0.9610\n",
      "RMSE on Train data: 0.9610438045280065\n",
      "RMSE: 1.1273\n",
      "RMSE on Test data: 1.1272722353452815\n",
      "---------------------------------------------------------------------------\n",
      "Accuracy for n_epochs : 40\n",
      "RMSE: 0.9599\n",
      "RMSE on Train data: 0.9599164132131671\n",
      "RMSE: 1.1272\n",
      "RMSE on Test data: 1.1272245668673402\n",
      "---------------------------------------------------------------------------\n",
      "Accuracy for n_epochs : 45\n",
      "RMSE: 0.9590\n",
      "RMSE on Train data: 0.9590090720999727\n",
      "RMSE: 1.1272\n",
      "RMSE on Test data: 1.127189018524962\n",
      "---------------------------------------------------------------------------\n",
      "Accuracy for n_epochs : 50\n",
      "RMSE: 0.9583\n",
      "RMSE on Train data: 0.9582631346908208\n",
      "RMSE: 1.1272\n",
      "RMSE on Test data: 1.1271640736873934\n",
      "Time taken: 0:01:12.979419\n"
     ]
    }
   ],
   "source": [
    "start = dt.datetime.now()\n",
    "bsl_options = {'method': 'sgd','learning_rate':0.001}\n",
    "print(\"Estimating biases using sgd with learning rate 0.001...\")\n",
    "for i in range(20,51,5):\n",
    "    bsl_options['n_epochs']=i\n",
    "    algo = BaselineOnly(bsl_options=bsl_options,verbose=False)\n",
    "    algo.fit(train_data)\n",
    "    print('-'*75)\n",
    "    print(\"Accuracy for n_epochs :\",i)\n",
    "    predictions = algo.test(train_data.build_testset())\n",
    "    print(\"RMSE on Train data:\",accuracy.rmse(predictions))\n",
    "\n",
    "    predictions = algo.test(testset)\n",
    "    print(\"RMSE on Test data:\",accuracy.rmse(predictions))\n",
    "\n",
    "\n",
    "print(\"Time taken:\",dt.datetime.now()-start)"
   ]
  },
  {
   "cell_type": "markdown",
   "metadata": {},
   "source": [
    "# Storing baseline result for Xgb feature"
   ]
  },
  {
   "cell_type": "code",
   "execution_count": 7,
   "metadata": {},
   "outputs": [
    {
     "name": "stdout",
     "output_type": "stream",
     "text": [
      "Estimating biases using als...\n"
     ]
    }
   ],
   "source": [
    "#Baseline with als method\n",
    "bsl_options = {'method': 'als','n_epochs':50}\n",
    "algo = BaselineOnly(bsl_options=bsl_options,verbose=True)\n",
    "algo.fit(train_data)\n",
    "\n",
    "xgb_train,xgb_test=pd.DataFrame(),pd.DataFrame()\n",
    "#preparing train data for xgboost algo\n",
    "train_predictions = algo.test(train_data.build_testset())\n",
    "xgb_train['bsl_als']=[train_predictions[i][3] for i in range(df.shape[0])]\n",
    "xgb_train['rating']=df.rating\n",
    "\n",
    "#preparing test data for xgboost algo\n",
    "test_predictions = algo.test(testset)\n",
    "xgb_test['bsl_als']=[test_predictions[i][3] for i in range(test.shape[0])]\n",
    "xgb_test['rating']=test.rating"
   ]
  },
  {
   "cell_type": "code",
   "execution_count": 8,
   "metadata": {},
   "outputs": [
    {
     "name": "stdout",
     "output_type": "stream",
     "text": [
      "Estimating biases using sgd...\n"
     ]
    }
   ],
   "source": [
    "#Baseline with sgd method\n",
    "bsl_options = {'method': 'sgd','n_epochs':50,'learning_rate':0.001}\n",
    "algo = BaselineOnly(bsl_options=bsl_options,verbose=True)\n",
    "algo.fit(train_data)\n",
    "\n",
    "#preparing train data for xgboost algo\n",
    "train_predictions = algo.test(train_data.build_testset())\n",
    "xgb_train['bsl_sgd']=[train_predictions[i][3] for i in range(df.shape[0])]\n",
    "\n",
    "#preparing test data for xgboost algo\n",
    "test_predictions = algo.test(testset)\n",
    "xgb_test['bsl_sgd']=[test_predictions[i][3] for i in range(test.shape[0])]"
   ]
  },
  {
   "cell_type": "code",
   "execution_count": 9,
   "metadata": {},
   "outputs": [
    {
     "name": "stdout",
     "output_type": "stream",
     "text": [
      "325000\n"
     ]
    },
    {
     "data": {
      "text/html": [
       "<div>\n",
       "<style scoped>\n",
       "    .dataframe tbody tr th:only-of-type {\n",
       "        vertical-align: middle;\n",
       "    }\n",
       "\n",
       "    .dataframe tbody tr th {\n",
       "        vertical-align: top;\n",
       "    }\n",
       "\n",
       "    .dataframe thead th {\n",
       "        text-align: right;\n",
       "    }\n",
       "</style>\n",
       "<table border=\"1\" class=\"dataframe\">\n",
       "  <thead>\n",
       "    <tr style=\"text-align: right;\">\n",
       "      <th></th>\n",
       "      <th>bsl_als</th>\n",
       "      <th>rating</th>\n",
       "      <th>bsl_sgd</th>\n",
       "    </tr>\n",
       "  </thead>\n",
       "  <tbody>\n",
       "    <tr>\n",
       "      <th>0</th>\n",
       "      <td>2.982229</td>\n",
       "      <td>3</td>\n",
       "      <td>2.934491</td>\n",
       "    </tr>\n",
       "    <tr>\n",
       "      <th>1</th>\n",
       "      <td>3.338582</td>\n",
       "      <td>5</td>\n",
       "      <td>3.325061</td>\n",
       "    </tr>\n",
       "    <tr>\n",
       "      <th>2</th>\n",
       "      <td>3.160165</td>\n",
       "      <td>2</td>\n",
       "      <td>3.162555</td>\n",
       "    </tr>\n",
       "    <tr>\n",
       "      <th>3</th>\n",
       "      <td>3.187672</td>\n",
       "      <td>5</td>\n",
       "      <td>3.172830</td>\n",
       "    </tr>\n",
       "    <tr>\n",
       "      <th>4</th>\n",
       "      <td>2.939256</td>\n",
       "      <td>4</td>\n",
       "      <td>2.943452</td>\n",
       "    </tr>\n",
       "  </tbody>\n",
       "</table>\n",
       "</div>"
      ],
      "text/plain": [
       "    bsl_als  rating   bsl_sgd\n",
       "0  2.982229       3  2.934491\n",
       "1  3.338582       5  3.325061\n",
       "2  3.160165       2  3.162555\n",
       "3  3.187672       5  3.172830\n",
       "4  2.939256       4  2.943452"
      ]
     },
     "execution_count": 9,
     "metadata": {},
     "output_type": "execute_result"
    }
   ],
   "source": [
    "#train data\n",
    "print(xgb_train.shape[0])\n",
    "xgb_train.head()"
   ]
  },
  {
   "cell_type": "code",
   "execution_count": 10,
   "metadata": {},
   "outputs": [
    {
     "name": "stdout",
     "output_type": "stream",
     "text": [
      "22000\n"
     ]
    },
    {
     "data": {
      "text/html": [
       "<div>\n",
       "<style scoped>\n",
       "    .dataframe tbody tr th:only-of-type {\n",
       "        vertical-align: middle;\n",
       "    }\n",
       "\n",
       "    .dataframe tbody tr th {\n",
       "        vertical-align: top;\n",
       "    }\n",
       "\n",
       "    .dataframe thead th {\n",
       "        text-align: right;\n",
       "    }\n",
       "</style>\n",
       "<table border=\"1\" class=\"dataframe\">\n",
       "  <thead>\n",
       "    <tr style=\"text-align: right;\">\n",
       "      <th></th>\n",
       "      <th>bsl_als</th>\n",
       "      <th>rating</th>\n",
       "      <th>bsl_sgd</th>\n",
       "    </tr>\n",
       "  </thead>\n",
       "  <tbody>\n",
       "    <tr>\n",
       "      <th>0</th>\n",
       "      <td>3.320431</td>\n",
       "      <td>4</td>\n",
       "      <td>3.320431</td>\n",
       "    </tr>\n",
       "    <tr>\n",
       "      <th>1</th>\n",
       "      <td>3.320431</td>\n",
       "      <td>4</td>\n",
       "      <td>3.320431</td>\n",
       "    </tr>\n",
       "    <tr>\n",
       "      <th>2</th>\n",
       "      <td>3.320431</td>\n",
       "      <td>3</td>\n",
       "      <td>3.320431</td>\n",
       "    </tr>\n",
       "    <tr>\n",
       "      <th>3</th>\n",
       "      <td>3.762526</td>\n",
       "      <td>4</td>\n",
       "      <td>3.765154</td>\n",
       "    </tr>\n",
       "    <tr>\n",
       "      <th>4</th>\n",
       "      <td>3.320431</td>\n",
       "      <td>2</td>\n",
       "      <td>3.320431</td>\n",
       "    </tr>\n",
       "  </tbody>\n",
       "</table>\n",
       "</div>"
      ],
      "text/plain": [
       "    bsl_als  rating   bsl_sgd\n",
       "0  3.320431       4  3.320431\n",
       "1  3.320431       4  3.320431\n",
       "2  3.320431       3  3.320431\n",
       "3  3.762526       4  3.765154\n",
       "4  3.320431       2  3.320431"
      ]
     },
     "execution_count": 10,
     "metadata": {},
     "output_type": "execute_result"
    }
   ],
   "source": [
    "#train data\n",
    "print(xgb_test.shape[0])\n",
    "xgb_test.head()"
   ]
  },
  {
   "cell_type": "code",
   "execution_count": 11,
   "metadata": {},
   "outputs": [],
   "source": [
    "xgb_train.to_csv(\"sur_xgb_train.csv\")\n",
    "xgb_test.to_csv(\"sur_xgb_test.csv\")"
   ]
  },
  {
   "cell_type": "markdown",
   "metadata": {},
   "source": [
    "# K-NN baseline with hyperparameter tuning"
   ]
  },
  {
   "cell_type": "code",
   "execution_count": 15,
   "metadata": {},
   "outputs": [
    {
     "name": "stderr",
     "output_type": "stream",
     "text": [
      "  0%|          | 0/5 [00:00<?, ?it/s]\n",
      "  0%|          | 0/5 [00:00<?, ?it/s]\u001b[A"
     ]
    },
    {
     "name": "stdout",
     "output_type": "stream",
     "text": [
      "Estimating biases using als...\n",
      "Computing the pearson_baseline similarity matrix...\n",
      "Done computing similarity matrix.\n",
      "---------------------------------------------------------------------------\n",
      "Accuracy for k=30 and min_k=1 :\n",
      "RMSE: 0.4845\n",
      "RMSE on Train data: 0.48452001627709074\n",
      "RMSE: 1.1273\n",
      "RMSE on Test data: 1.1272861578209328\n"
     ]
    },
    {
     "name": "stderr",
     "output_type": "stream",
     "text": [
      "\n",
      " 20%|██        | 1/5 [08:02<32:08, 482.18s/it]\u001b[A"
     ]
    },
    {
     "name": "stdout",
     "output_type": "stream",
     "text": [
      "RMSE: 1.1273\n",
      "Estimating biases using als...\n",
      "Computing the pearson_baseline similarity matrix...\n",
      "Done computing similarity matrix.\n",
      "---------------------------------------------------------------------------\n",
      "Accuracy for k=30 and min_k=2 :\n",
      "RMSE: 0.4875\n",
      "RMSE on Train data: 0.4875014100499093\n",
      "RMSE: 1.1273\n",
      "RMSE on Test data: 1.1273306447495877\n"
     ]
    },
    {
     "name": "stderr",
     "output_type": "stream",
     "text": [
      "\n",
      " 40%|████      | 2/5 [16:31<24:47, 495.97s/it]\u001b[A"
     ]
    },
    {
     "name": "stdout",
     "output_type": "stream",
     "text": [
      "RMSE: 1.1273\n",
      "Estimating biases using als...\n",
      "Computing the pearson_baseline similarity matrix...\n",
      "Done computing similarity matrix.\n",
      "---------------------------------------------------------------------------\n",
      "Accuracy for k=30 and min_k=3 :\n",
      "RMSE: 0.4899\n",
      "RMSE on Train data: 0.4898637134877161\n"
     ]
    },
    {
     "name": "stderr",
     "output_type": "stream",
     "text": [
      "\n",
      " 60%|██████    | 3/5 [24:07<16:05, 482.67s/it]\u001b[A"
     ]
    },
    {
     "name": "stdout",
     "output_type": "stream",
     "text": [
      "RMSE: 1.1273\n",
      "RMSE on Test data: 1.1273156037495708\n",
      "RMSE: 1.1273\n",
      "Estimating biases using als...\n",
      "Computing the pearson_baseline similarity matrix...\n",
      "Done computing similarity matrix.\n",
      "---------------------------------------------------------------------------\n",
      "Accuracy for k=30 and min_k=4 :\n",
      "RMSE: 0.4923\n",
      "RMSE on Train data: 0.49232913395562905\n",
      "RMSE: 1.1273\n",
      "RMSE on Test data: 1.1273156037495708\n"
     ]
    },
    {
     "name": "stderr",
     "output_type": "stream",
     "text": [
      "\n",
      " 80%|████████  | 4/5 [32:43<08:10, 490.76s/it]\u001b[A"
     ]
    },
    {
     "name": "stdout",
     "output_type": "stream",
     "text": [
      "RMSE: 1.1273\n",
      "Estimating biases using als...\n",
      "Computing the pearson_baseline similarity matrix...\n",
      "Done computing similarity matrix.\n",
      "---------------------------------------------------------------------------\n",
      "Accuracy for k=30 and min_k=5 :\n",
      "RMSE: 0.4946\n",
      "RMSE on Train data: 0.49457831953317066\n"
     ]
    },
    {
     "name": "stderr",
     "output_type": "stream",
     "text": [
      "\n",
      "100%|██████████| 5/5 [40:58<00:00, 491.78s/it]\u001b[A"
     ]
    },
    {
     "name": "stdout",
     "output_type": "stream",
     "text": [
      "RMSE: 1.1273\n",
      "RMSE on Test data: 1.1273156037495708\n",
      "RMSE: 1.1273\n"
     ]
    },
    {
     "name": "stderr",
     "output_type": "stream",
     "text": [
      "\n",
      " 20%|██        | 1/5 [40:58<2:43:55, 2458.90s/it]\n",
      "  0%|          | 0/5 [00:00<?, ?it/s]\u001b[A"
     ]
    },
    {
     "name": "stdout",
     "output_type": "stream",
     "text": [
      "Estimating biases using als...\n",
      "Computing the pearson_baseline similarity matrix...\n",
      "Done computing similarity matrix.\n",
      "---------------------------------------------------------------------------\n",
      "Accuracy for k=35 and min_k=1 :\n",
      "RMSE: 0.4990\n",
      "RMSE on Train data: 0.4989815902439657\n",
      "RMSE: 1.1273\n",
      "RMSE on Test data: 1.1272814542402503\n"
     ]
    },
    {
     "name": "stderr",
     "output_type": "stream",
     "text": [
      "\n",
      " 20%|██        | 1/5 [08:36<34:25, 516.40s/it]\u001b[A"
     ]
    },
    {
     "name": "stdout",
     "output_type": "stream",
     "text": [
      "RMSE: 1.1273\n",
      "Estimating biases using als...\n",
      "Computing the pearson_baseline similarity matrix...\n",
      "Done computing similarity matrix.\n",
      "---------------------------------------------------------------------------\n",
      "Accuracy for k=35 and min_k=2 :\n",
      "RMSE: 0.5019\n",
      "RMSE on Train data: 0.5018770825908416\n"
     ]
    },
    {
     "name": "stderr",
     "output_type": "stream",
     "text": [
      "\n",
      " 40%|████      | 2/5 [17:21<26:02, 520.75s/it]\u001b[A"
     ]
    },
    {
     "name": "stdout",
     "output_type": "stream",
     "text": [
      "RMSE: 1.1273\n",
      "RMSE on Test data: 1.1273259413545196\n",
      "RMSE: 1.1273\n",
      "Estimating biases using als...\n",
      "Computing the pearson_baseline similarity matrix...\n",
      "Done computing similarity matrix.\n",
      "---------------------------------------------------------------------------\n",
      "Accuracy for k=35 and min_k=3 :\n",
      "RMSE: 0.5042\n",
      "RMSE on Train data: 0.5041720331605275\n",
      "RMSE: 1.1273\n",
      "RMSE on Test data: 1.1273109002917483\n"
     ]
    },
    {
     "name": "stderr",
     "output_type": "stream",
     "text": [
      "\n",
      " 60%|██████    | 3/5 [25:35<17:03, 511.90s/it]\u001b[A"
     ]
    },
    {
     "name": "stdout",
     "output_type": "stream",
     "text": [
      "RMSE: 1.1273\n",
      "Estimating biases using als...\n",
      "Computing the pearson_baseline similarity matrix...\n",
      "Done computing similarity matrix.\n",
      "---------------------------------------------------------------------------\n",
      "Accuracy for k=35 and min_k=4 :\n",
      "RMSE: 0.5066\n",
      "RMSE on Train data: 0.5065678210967851\n"
     ]
    },
    {
     "name": "stderr",
     "output_type": "stream",
     "text": [
      "\n",
      " 80%|████████  | 4/5 [33:34<08:23, 503.70s/it]"
     ]
    },
    {
     "name": "stdout",
     "output_type": "stream",
     "text": [
      "RMSE: 1.1273\n",
      "RMSE on Test data: 1.1273109002917483\n",
      "RMSE: 1.1273\n"
     ]
    },
    {
     "name": "stderr",
     "output_type": "stream",
     "text": [
      "\u001b[A"
     ]
    },
    {
     "name": "stdout",
     "output_type": "stream",
     "text": [
      "Estimating biases using als...\n",
      "Computing the pearson_baseline similarity matrix...\n",
      "Done computing similarity matrix.\n",
      "---------------------------------------------------------------------------\n",
      "Accuracy for k=35 and min_k=5 :\n",
      "RMSE: 0.5088\n",
      "RMSE on Train data: 0.5087540617837853\n",
      "RMSE: 1.1273\n",
      "RMSE on Test data: 1.1273109002917483\n"
     ]
    },
    {
     "name": "stderr",
     "output_type": "stream",
     "text": [
      "\n",
      "100%|██████████| 5/5 [41:47<00:00, 501.50s/it]\u001b[A\n",
      " 40%|████      | 2/5 [1:22:46<2:04:09, 2483.21s/it]\n",
      "  0%|          | 0/5 [00:00<?, ?it/s]\u001b[A"
     ]
    },
    {
     "name": "stdout",
     "output_type": "stream",
     "text": [
      "RMSE: 1.1273\n",
      "Estimating biases using als...\n",
      "Computing the pearson_baseline similarity matrix...\n",
      "Done computing similarity matrix.\n",
      "---------------------------------------------------------------------------\n",
      "Accuracy for k=40 and min_k=1 :\n",
      "RMSE: 0.5108\n",
      "RMSE on Train data: 0.510757280976769\n"
     ]
    },
    {
     "name": "stderr",
     "output_type": "stream",
     "text": [
      "\n"
     ]
    },
    {
     "name": "stdout",
     "output_type": "stream",
     "text": [
      "RMSE: 1.1273\n",
      "RMSE on Test data: 1.1272903351690335\n",
      "RMSE: 1.1273\n"
     ]
    },
    {
     "name": "stderr",
     "output_type": "stream",
     "text": [
      " 20%|██        | 1/5 [08:30<34:03, 510.98s/it]\u001b[A"
     ]
    },
    {
     "name": "stdout",
     "output_type": "stream",
     "text": [
      "Estimating biases using als...\n",
      "Computing the pearson_baseline similarity matrix...\n",
      "Done computing similarity matrix.\n",
      "---------------------------------------------------------------------------\n",
      "Accuracy for k=40 and min_k=2 :\n",
      "RMSE: 0.5136\n",
      "RMSE on Train data: 0.5135863887393042\n",
      "RMSE: 1.1273\n",
      "RMSE on Test data: 1.1273348219328418\n"
     ]
    },
    {
     "name": "stderr",
     "output_type": "stream",
     "text": [
      "\n",
      " 40%|████      | 2/5 [17:39<26:29, 529.68s/it]\u001b[A"
     ]
    },
    {
     "name": "stdout",
     "output_type": "stream",
     "text": [
      "RMSE: 1.1273\n",
      "Estimating biases using als...\n",
      "Computing the pearson_baseline similarity matrix...\n",
      "Done computing similarity matrix.\n",
      "---------------------------------------------------------------------------\n",
      "Accuracy for k=40 and min_k=3 :\n",
      "RMSE: 0.5158\n",
      "RMSE on Train data: 0.5158292466404023\n",
      "RMSE: 1.1273\n",
      "RMSE on Test data: 1.127319780988558\n"
     ]
    },
    {
     "name": "stderr",
     "output_type": "stream",
     "text": [
      "\n",
      " 60%|██████    | 3/5 [27:00<18:00, 540.23s/it]\u001b[A"
     ]
    },
    {
     "name": "stdout",
     "output_type": "stream",
     "text": [
      "RMSE: 1.1273\n",
      "Estimating biases using als...\n",
      "Computing the pearson_baseline similarity matrix...\n",
      "Done computing similarity matrix.\n",
      "---------------------------------------------------------------------------\n",
      "Accuracy for k=40 and min_k=4 :\n",
      "RMSE: 0.5182\n",
      "RMSE on Train data: 0.5181711397203915\n",
      "RMSE: 1.1273\n",
      "RMSE on Test data: 1.127319780988558\n"
     ]
    },
    {
     "name": "stderr",
     "output_type": "stream",
     "text": [
      "\n",
      " 80%|████████  | 4/5 [35:34<08:53, 533.63s/it]\u001b[A"
     ]
    },
    {
     "name": "stdout",
     "output_type": "stream",
     "text": [
      "RMSE: 1.1273\n",
      "Estimating biases using als...\n",
      "Computing the pearson_baseline similarity matrix...\n",
      "Done computing similarity matrix.\n",
      "---------------------------------------------------------------------------\n",
      "Accuracy for k=40 and min_k=5 :\n",
      "RMSE: 0.5203\n",
      "RMSE on Train data: 0.5203086276911858\n"
     ]
    },
    {
     "name": "stderr",
     "output_type": "stream",
     "text": [
      "\n",
      "100%|██████████| 5/5 [43:07<00:00, 517.45s/it]\u001b[A\n",
      " 60%|██████    | 3/5 [2:05:53<1:23:55, 2517.90s/it]"
     ]
    },
    {
     "name": "stdout",
     "output_type": "stream",
     "text": [
      "RMSE: 1.1273\n",
      "RMSE on Test data: 1.127319780988558\n",
      "RMSE: 1.1273\n"
     ]
    },
    {
     "name": "stderr",
     "output_type": "stream",
     "text": [
      "\n",
      "  0%|          | 0/5 [00:00<?, ?it/s]\u001b[A"
     ]
    },
    {
     "name": "stdout",
     "output_type": "stream",
     "text": [
      "Estimating biases using als...\n",
      "Computing the pearson_baseline similarity matrix...\n",
      "Done computing similarity matrix.\n",
      "---------------------------------------------------------------------------\n",
      "Accuracy for k=45 and min_k=1 :\n",
      "RMSE: 0.5207\n",
      "RMSE on Train data: 0.5206698889781818\n"
     ]
    },
    {
     "name": "stderr",
     "output_type": "stream",
     "text": [
      "\n",
      " 20%|██        | 1/5 [07:48<31:12, 468.01s/it]"
     ]
    },
    {
     "name": "stdout",
     "output_type": "stream",
     "text": [
      "RMSE: 1.1273\n",
      "RMSE on Test data: 1.1272941143842874\n",
      "RMSE: 1.1273\n"
     ]
    },
    {
     "name": "stderr",
     "output_type": "stream",
     "text": [
      "\u001b[A"
     ]
    },
    {
     "name": "stdout",
     "output_type": "stream",
     "text": [
      "Estimating biases using als...\n",
      "Computing the pearson_baseline similarity matrix...\n",
      "Done computing similarity matrix.\n",
      "---------------------------------------------------------------------------\n",
      "Accuracy for k=45 and min_k=2 :\n",
      "RMSE: 0.5234\n",
      "RMSE on Train data: 0.5234454240090839\n"
     ]
    },
    {
     "name": "stderr",
     "output_type": "stream",
     "text": [
      "\n",
      " 40%|████      | 2/5 [15:34<23:21, 467.15s/it]\u001b[A"
     ]
    },
    {
     "name": "stdout",
     "output_type": "stream",
     "text": [
      "RMSE: 1.1273\n",
      "RMSE on Test data: 1.1273386009989612\n",
      "RMSE: 1.1273\n",
      "Estimating biases using als...\n",
      "Computing the pearson_baseline similarity matrix...\n",
      "Done computing similarity matrix.\n",
      "---------------------------------------------------------------------------\n",
      "Accuracy for k=45 and min_k=3 :\n",
      "RMSE: 0.5256\n",
      "RMSE on Train data: 0.5256462164872635\n"
     ]
    },
    {
     "name": "stderr",
     "output_type": "stream",
     "text": [
      "\n",
      " 60%|██████    | 3/5 [23:20<15:33, 466.67s/it]\u001b[A"
     ]
    },
    {
     "name": "stdout",
     "output_type": "stream",
     "text": [
      "RMSE: 1.1273\n",
      "RMSE on Test data: 1.1273235601050984\n",
      "RMSE: 1.1273\n",
      "Estimating biases using als...\n",
      "Computing the pearson_baseline similarity matrix...\n",
      "Done computing similarity matrix.\n",
      "---------------------------------------------------------------------------\n",
      "Accuracy for k=45 and min_k=4 :\n",
      "RMSE: 0.5279\n",
      "RMSE on Train data: 0.5279445645680042\n"
     ]
    },
    {
     "name": "stderr",
     "output_type": "stream",
     "text": [
      "\n",
      " 80%|████████  | 4/5 [31:04<07:46, 466.18s/it]"
     ]
    },
    {
     "name": "stdout",
     "output_type": "stream",
     "text": [
      "RMSE: 1.1273\n",
      "RMSE on Test data: 1.1273235601050984\n",
      "RMSE: 1.1273\n"
     ]
    },
    {
     "name": "stderr",
     "output_type": "stream",
     "text": [
      "\u001b[A"
     ]
    },
    {
     "name": "stdout",
     "output_type": "stream",
     "text": [
      "Estimating biases using als...\n",
      "Computing the pearson_baseline similarity matrix...\n",
      "Done computing similarity matrix.\n",
      "---------------------------------------------------------------------------\n",
      "Accuracy for k=45 and min_k=5 :\n",
      "RMSE: 0.5300\n",
      "RMSE on Train data: 0.5300426409900008\n"
     ]
    },
    {
     "name": "stderr",
     "output_type": "stream",
     "text": [
      "\n",
      "100%|██████████| 5/5 [38:50<00:00, 466.16s/it]\u001b[A\n",
      " 80%|████████  | 4/5 [2:44:44<41:11, 2471.14s/it]  \n"
     ]
    },
    {
     "name": "stdout",
     "output_type": "stream",
     "text": [
      "RMSE: 1.1273\n",
      "RMSE on Test data: 1.1273235601050984\n",
      "RMSE: 1.1273\n"
     ]
    },
    {
     "name": "stderr",
     "output_type": "stream",
     "text": [
      "  0%|          | 0/5 [00:00<?, ?it/s]\u001b[A"
     ]
    },
    {
     "name": "stdout",
     "output_type": "stream",
     "text": [
      "Estimating biases using als...\n",
      "Computing the pearson_baseline similarity matrix...\n",
      "Done computing similarity matrix.\n",
      "---------------------------------------------------------------------------\n",
      "Accuracy for k=50 and min_k=1 :\n",
      "RMSE: 0.5291\n",
      "RMSE on Train data: 0.5291053030431022\n",
      "RMSE: 1.1273\n",
      "RMSE on Test data: 1.1272976178342606\n"
     ]
    },
    {
     "name": "stderr",
     "output_type": "stream",
     "text": [
      "\n",
      " 20%|██        | 1/5 [08:36<34:24, 516.23s/it]\u001b[A"
     ]
    },
    {
     "name": "stdout",
     "output_type": "stream",
     "text": [
      "RMSE: 1.1273\n",
      "Estimating biases using als...\n",
      "Computing the pearson_baseline similarity matrix...\n",
      "Done computing similarity matrix.\n",
      "---------------------------------------------------------------------------\n",
      "Accuracy for k=50 and min_k=2 :\n",
      "RMSE: 0.5318\n",
      "RMSE on Train data: 0.5318368173940485\n",
      "RMSE: 1.1273\n",
      "RMSE on Test data: 1.127342104310683\n"
     ]
    },
    {
     "name": "stderr",
     "output_type": "stream",
     "text": [
      "\n",
      " 40%|████      | 2/5 [17:27<26:11, 523.93s/it]\u001b[A"
     ]
    },
    {
     "name": "stdout",
     "output_type": "stream",
     "text": [
      "RMSE: 1.1273\n",
      "Estimating biases using als...\n",
      "Computing the pearson_baseline similarity matrix...\n",
      "Done computing similarity matrix.\n",
      "---------------------------------------------------------------------------\n",
      "Accuracy for k=50 and min_k=3 :\n",
      "RMSE: 0.5340\n",
      "RMSE on Train data: 0.534003027451302\n",
      "RMSE: 1.1273\n",
      "RMSE on Test data: 1.1273270634635615\n"
     ]
    },
    {
     "name": "stderr",
     "output_type": "stream",
     "text": [
      "\n",
      " 60%|██████    | 3/5 [26:37<17:45, 532.59s/it]\u001b[A"
     ]
    },
    {
     "name": "stdout",
     "output_type": "stream",
     "text": [
      "RMSE: 1.1273\n",
      "Estimating biases using als...\n",
      "Computing the pearson_baseline similarity matrix...\n",
      "Done computing similarity matrix.\n",
      "---------------------------------------------------------------------------\n",
      "Accuracy for k=50 and min_k=4 :\n",
      "RMSE: 0.5363\n",
      "RMSE on Train data: 0.5362655607781285\n",
      "RMSE: 1.1273\n",
      "RMSE on Test data: 1.1273270634635615\n"
     ]
    },
    {
     "name": "stderr",
     "output_type": "stream",
     "text": [
      "\n",
      " 80%|████████  | 4/5 [35:16<08:49, 529.01s/it]\u001b[A"
     ]
    },
    {
     "name": "stdout",
     "output_type": "stream",
     "text": [
      "RMSE: 1.1273\n",
      "Estimating biases using als...\n",
      "Computing the pearson_baseline similarity matrix...\n",
      "Done computing similarity matrix.\n",
      "---------------------------------------------------------------------------\n",
      "Accuracy for k=50 and min_k=5 :\n",
      "RMSE: 0.5383\n",
      "RMSE on Train data: 0.5383312081678304\n"
     ]
    },
    {
     "name": "stderr",
     "output_type": "stream",
     "text": [
      "\n",
      "100%|██████████| 5/5 [43:11<00:00, 518.21s/it]\u001b[A\n",
      "100%|██████████| 5/5 [3:27:55<00:00, 2495.12s/it]"
     ]
    },
    {
     "name": "stdout",
     "output_type": "stream",
     "text": [
      "RMSE: 1.1273\n",
      "RMSE on Test data: 1.1273270634635615\n",
      "RMSE: 1.1273\n",
      "Time Taken :  3:27:55.720137\n"
     ]
    },
    {
     "name": "stderr",
     "output_type": "stream",
     "text": [
      "\n"
     ]
    }
   ],
   "source": [
    "start=dt.datetime.now()\n",
    "\n",
    "sim_options = {'user_based' : True,\n",
    "               'name': 'pearson_baseline',\n",
    "               'shrinkage': 100,\n",
    "               'min_support': 2\n",
    "              } \n",
    "bsl_options = {'method': 'als'} \n",
    "algo =KNNBaseline(sim_options =sim_options ,bsl_options=bsl_options)\n",
    "param_grid = {'k': [30,35,40,45,50],'min_k':[1,2,3,4,5]}\n",
    "k_range,min_k_range=[30,35,40,45,50],[1,2,3,4,5]\n",
    "RMSE={}\n",
    "for k in tqdm(k_range):\n",
    "    for min_k in tqdm(min_k_range):\n",
    "        knn_bsl_u=KNNBaseline(k=k,min_k=min_k,sim_options=sim_options,bsl_options=bsl_options)\n",
    "        knn_bsl_u.fit(train_data)\n",
    "        \n",
    "        print('-'*75)\n",
    "        print(\"Accuracy for k={} and min_k={} :\".format(k,min_k))\n",
    "        predictions = knn_bsl_u.test(train_data.build_testset())\n",
    "        print(\"RMSE on Train data:\",accuracy.rmse(predictions))\n",
    "\n",
    "        predictions = knn_bsl_u.test(testset)\n",
    "        print(\"RMSE on Test data:\",accuracy.rmse(predictions))\n",
    "        RMSE[(k,min_k)]=accuracy.rmse(predictions)\n",
    "\n",
    "\n",
    "print(\"Time Taken : \",dt.datetime.now()-start)"
   ]
  },
  {
   "cell_type": "markdown",
   "metadata": {},
   "source": [
    "# Storing KNNBaseline result for Xgb feature"
   ]
  },
  {
   "cell_type": "code",
   "execution_count": 16,
   "metadata": {},
   "outputs": [
    {
     "name": "stdout",
     "output_type": "stream",
     "text": [
      "Estimating biases using als...\n",
      "Computing the pearson_baseline similarity matrix...\n",
      "Done computing similarity matrix.\n"
     ]
    }
   ],
   "source": [
    "#KNN Baseline with user similarity\n",
    "knn_bsl_u=KNNBaseline(k=40,min_k=2,sim_options=sim_options,bsl_options=bsl_options)\n",
    "knn_bsl_u.fit(train_data)\n",
    "#preparing train data for xgboost algo\n",
    "train_predictions = knn_bsl_u.test(train_data.build_testset())\n",
    "xgb_train['knn_bsl_u']=[train_predictions[i][3] for i in range(df.shape[0])]\n",
    "\n",
    "#preparing test data for xgboost algo\n",
    "test_predictions = knn_bsl_u.test(testset)\n",
    "xgb_test['knn_bsl_u']=[test_predictions[i][3] for i in range(test.shape[0])]"
   ]
  },
  {
   "cell_type": "code",
   "execution_count": 17,
   "metadata": {},
   "outputs": [
    {
     "name": "stdout",
     "output_type": "stream",
     "text": [
      "325000\n"
     ]
    },
    {
     "data": {
      "text/html": [
       "<div>\n",
       "<style scoped>\n",
       "    .dataframe tbody tr th:only-of-type {\n",
       "        vertical-align: middle;\n",
       "    }\n",
       "\n",
       "    .dataframe tbody tr th {\n",
       "        vertical-align: top;\n",
       "    }\n",
       "\n",
       "    .dataframe thead th {\n",
       "        text-align: right;\n",
       "    }\n",
       "</style>\n",
       "<table border=\"1\" class=\"dataframe\">\n",
       "  <thead>\n",
       "    <tr style=\"text-align: right;\">\n",
       "      <th></th>\n",
       "      <th>bsl_als</th>\n",
       "      <th>rating</th>\n",
       "      <th>bsl_sgd</th>\n",
       "      <th>knn_bsl_u</th>\n",
       "    </tr>\n",
       "  </thead>\n",
       "  <tbody>\n",
       "    <tr>\n",
       "      <th>0</th>\n",
       "      <td>2.982229</td>\n",
       "      <td>3</td>\n",
       "      <td>2.934491</td>\n",
       "      <td>3.501707</td>\n",
       "    </tr>\n",
       "    <tr>\n",
       "      <th>1</th>\n",
       "      <td>3.338582</td>\n",
       "      <td>5</td>\n",
       "      <td>3.325061</td>\n",
       "      <td>4.193401</td>\n",
       "    </tr>\n",
       "    <tr>\n",
       "      <th>2</th>\n",
       "      <td>3.160165</td>\n",
       "      <td>2</td>\n",
       "      <td>3.162555</td>\n",
       "      <td>2.524109</td>\n",
       "    </tr>\n",
       "    <tr>\n",
       "      <th>3</th>\n",
       "      <td>3.187672</td>\n",
       "      <td>5</td>\n",
       "      <td>3.172830</td>\n",
       "      <td>4.294582</td>\n",
       "    </tr>\n",
       "    <tr>\n",
       "      <th>4</th>\n",
       "      <td>2.939256</td>\n",
       "      <td>4</td>\n",
       "      <td>2.943452</td>\n",
       "      <td>3.625873</td>\n",
       "    </tr>\n",
       "  </tbody>\n",
       "</table>\n",
       "</div>"
      ],
      "text/plain": [
       "    bsl_als  rating   bsl_sgd  knn_bsl_u\n",
       "0  2.982229       3  2.934491   3.501707\n",
       "1  3.338582       5  3.325061   4.193401\n",
       "2  3.160165       2  3.162555   2.524109\n",
       "3  3.187672       5  3.172830   4.294582\n",
       "4  2.939256       4  2.943452   3.625873"
      ]
     },
     "execution_count": 17,
     "metadata": {},
     "output_type": "execute_result"
    }
   ],
   "source": [
    "#train data\n",
    "print(xgb_train.shape[0])\n",
    "xgb_train.head()"
   ]
  },
  {
   "cell_type": "code",
   "execution_count": 18,
   "metadata": {},
   "outputs": [
    {
     "name": "stdout",
     "output_type": "stream",
     "text": [
      "22000\n"
     ]
    },
    {
     "data": {
      "text/html": [
       "<div>\n",
       "<style scoped>\n",
       "    .dataframe tbody tr th:only-of-type {\n",
       "        vertical-align: middle;\n",
       "    }\n",
       "\n",
       "    .dataframe tbody tr th {\n",
       "        vertical-align: top;\n",
       "    }\n",
       "\n",
       "    .dataframe thead th {\n",
       "        text-align: right;\n",
       "    }\n",
       "</style>\n",
       "<table border=\"1\" class=\"dataframe\">\n",
       "  <thead>\n",
       "    <tr style=\"text-align: right;\">\n",
       "      <th></th>\n",
       "      <th>bsl_als</th>\n",
       "      <th>rating</th>\n",
       "      <th>bsl_sgd</th>\n",
       "      <th>knn_bsl_u</th>\n",
       "    </tr>\n",
       "  </thead>\n",
       "  <tbody>\n",
       "    <tr>\n",
       "      <th>0</th>\n",
       "      <td>3.320431</td>\n",
       "      <td>4</td>\n",
       "      <td>3.320431</td>\n",
       "      <td>3.320431</td>\n",
       "    </tr>\n",
       "    <tr>\n",
       "      <th>1</th>\n",
       "      <td>3.320431</td>\n",
       "      <td>4</td>\n",
       "      <td>3.320431</td>\n",
       "      <td>3.320431</td>\n",
       "    </tr>\n",
       "    <tr>\n",
       "      <th>2</th>\n",
       "      <td>3.320431</td>\n",
       "      <td>3</td>\n",
       "      <td>3.320431</td>\n",
       "      <td>3.320431</td>\n",
       "    </tr>\n",
       "    <tr>\n",
       "      <th>3</th>\n",
       "      <td>3.762526</td>\n",
       "      <td>4</td>\n",
       "      <td>3.765154</td>\n",
       "      <td>3.752313</td>\n",
       "    </tr>\n",
       "    <tr>\n",
       "      <th>4</th>\n",
       "      <td>3.320431</td>\n",
       "      <td>2</td>\n",
       "      <td>3.320431</td>\n",
       "      <td>3.320431</td>\n",
       "    </tr>\n",
       "  </tbody>\n",
       "</table>\n",
       "</div>"
      ],
      "text/plain": [
       "    bsl_als  rating   bsl_sgd  knn_bsl_u\n",
       "0  3.320431       4  3.320431   3.320431\n",
       "1  3.320431       4  3.320431   3.320431\n",
       "2  3.320431       3  3.320431   3.320431\n",
       "3  3.762526       4  3.765154   3.752313\n",
       "4  3.320431       2  3.320431   3.320431"
      ]
     },
     "execution_count": 18,
     "metadata": {},
     "output_type": "execute_result"
    }
   ],
   "source": [
    "#test data\n",
    "print(xgb_test.shape[0])\n",
    "xgb_test.head()"
   ]
  },
  {
   "cell_type": "code",
   "execution_count": 19,
   "metadata": {},
   "outputs": [],
   "source": [
    "xgb_train.to_csv(\"sur_xgb_train.csv\")\n",
    "xgb_test.to_csv(\"sur_xgb_test.csv\")"
   ]
  },
  {
   "cell_type": "code",
   "execution_count": 20,
   "metadata": {},
   "outputs": [
    {
     "name": "stdout",
     "output_type": "stream",
     "text": [
      "Estimating biases using sgd...\n",
      "Computing the pearson_baseline similarity matrix...\n",
      "Done computing similarity matrix.\n"
     ]
    }
   ],
   "source": [
    "#KNN Baseline with movie similarity\n",
    "sim_options = {'user_based' : False,\n",
    "               'name': 'pearson_baseline',\n",
    "               'shrinkage': 100,\n",
    "               'min_support': 2\n",
    "              } \n",
    "bsl_options = {'method': 'sgd'} \n",
    "knn_bsl_u=KNNBaseline(k=40,min_k=2,sim_options=sim_options,bsl_options=bsl_options)\n",
    "knn_bsl_u.fit(train_data)\n",
    "#preparing train data for xgboost algo\n",
    "train_predictions = knn_bsl_u.test(train_data.build_testset())\n",
    "xgb_train['knn_bsl_m']=[train_predictions[i][3] for i in range(df.shape[0])]\n",
    "\n",
    "#preparing test data for xgboost algo\n",
    "test_predictions = knn_bsl_u.test(testset)\n",
    "xgb_test['knn_bsl_m']=[test_predictions[i][3] for i in range(test.shape[0])]"
   ]
  },
  {
   "cell_type": "code",
   "execution_count": 21,
   "metadata": {},
   "outputs": [
    {
     "name": "stdout",
     "output_type": "stream",
     "text": [
      "325000\n"
     ]
    },
    {
     "data": {
      "text/html": [
       "<div>\n",
       "<style scoped>\n",
       "    .dataframe tbody tr th:only-of-type {\n",
       "        vertical-align: middle;\n",
       "    }\n",
       "\n",
       "    .dataframe tbody tr th {\n",
       "        vertical-align: top;\n",
       "    }\n",
       "\n",
       "    .dataframe thead th {\n",
       "        text-align: right;\n",
       "    }\n",
       "</style>\n",
       "<table border=\"1\" class=\"dataframe\">\n",
       "  <thead>\n",
       "    <tr style=\"text-align: right;\">\n",
       "      <th></th>\n",
       "      <th>bsl_als</th>\n",
       "      <th>rating</th>\n",
       "      <th>bsl_sgd</th>\n",
       "      <th>knn_bsl_u</th>\n",
       "      <th>knn_bsl_m</th>\n",
       "    </tr>\n",
       "  </thead>\n",
       "  <tbody>\n",
       "    <tr>\n",
       "      <th>0</th>\n",
       "      <td>2.982229</td>\n",
       "      <td>3</td>\n",
       "      <td>2.934491</td>\n",
       "      <td>3.501707</td>\n",
       "      <td>3.123193</td>\n",
       "    </tr>\n",
       "    <tr>\n",
       "      <th>1</th>\n",
       "      <td>3.338582</td>\n",
       "      <td>5</td>\n",
       "      <td>3.325061</td>\n",
       "      <td>4.193401</td>\n",
       "      <td>4.048718</td>\n",
       "    </tr>\n",
       "    <tr>\n",
       "      <th>2</th>\n",
       "      <td>3.160165</td>\n",
       "      <td>2</td>\n",
       "      <td>3.162555</td>\n",
       "      <td>2.524109</td>\n",
       "      <td>2.829673</td>\n",
       "    </tr>\n",
       "    <tr>\n",
       "      <th>3</th>\n",
       "      <td>3.187672</td>\n",
       "      <td>5</td>\n",
       "      <td>3.172830</td>\n",
       "      <td>4.294582</td>\n",
       "      <td>3.527573</td>\n",
       "    </tr>\n",
       "    <tr>\n",
       "      <th>4</th>\n",
       "      <td>2.939256</td>\n",
       "      <td>4</td>\n",
       "      <td>2.943452</td>\n",
       "      <td>3.625873</td>\n",
       "      <td>3.503570</td>\n",
       "    </tr>\n",
       "  </tbody>\n",
       "</table>\n",
       "</div>"
      ],
      "text/plain": [
       "    bsl_als  rating   bsl_sgd  knn_bsl_u  knn_bsl_m\n",
       "0  2.982229       3  2.934491   3.501707   3.123193\n",
       "1  3.338582       5  3.325061   4.193401   4.048718\n",
       "2  3.160165       2  3.162555   2.524109   2.829673\n",
       "3  3.187672       5  3.172830   4.294582   3.527573\n",
       "4  2.939256       4  2.943452   3.625873   3.503570"
      ]
     },
     "execution_count": 21,
     "metadata": {},
     "output_type": "execute_result"
    }
   ],
   "source": [
    "#train data\n",
    "print(xgb_train.shape[0])\n",
    "xgb_train.head()"
   ]
  },
  {
   "cell_type": "code",
   "execution_count": 22,
   "metadata": {},
   "outputs": [
    {
     "name": "stdout",
     "output_type": "stream",
     "text": [
      "22000\n"
     ]
    },
    {
     "data": {
      "text/html": [
       "<div>\n",
       "<style scoped>\n",
       "    .dataframe tbody tr th:only-of-type {\n",
       "        vertical-align: middle;\n",
       "    }\n",
       "\n",
       "    .dataframe tbody tr th {\n",
       "        vertical-align: top;\n",
       "    }\n",
       "\n",
       "    .dataframe thead th {\n",
       "        text-align: right;\n",
       "    }\n",
       "</style>\n",
       "<table border=\"1\" class=\"dataframe\">\n",
       "  <thead>\n",
       "    <tr style=\"text-align: right;\">\n",
       "      <th></th>\n",
       "      <th>bsl_als</th>\n",
       "      <th>rating</th>\n",
       "      <th>bsl_sgd</th>\n",
       "      <th>knn_bsl_u</th>\n",
       "      <th>knn_bsl_m</th>\n",
       "    </tr>\n",
       "  </thead>\n",
       "  <tbody>\n",
       "    <tr>\n",
       "      <th>0</th>\n",
       "      <td>3.320431</td>\n",
       "      <td>4</td>\n",
       "      <td>3.320431</td>\n",
       "      <td>3.320431</td>\n",
       "      <td>3.320431</td>\n",
       "    </tr>\n",
       "    <tr>\n",
       "      <th>1</th>\n",
       "      <td>3.320431</td>\n",
       "      <td>4</td>\n",
       "      <td>3.320431</td>\n",
       "      <td>3.320431</td>\n",
       "      <td>3.320431</td>\n",
       "    </tr>\n",
       "    <tr>\n",
       "      <th>2</th>\n",
       "      <td>3.320431</td>\n",
       "      <td>3</td>\n",
       "      <td>3.320431</td>\n",
       "      <td>3.320431</td>\n",
       "      <td>3.320431</td>\n",
       "    </tr>\n",
       "    <tr>\n",
       "      <th>3</th>\n",
       "      <td>3.762526</td>\n",
       "      <td>4</td>\n",
       "      <td>3.765154</td>\n",
       "      <td>3.752313</td>\n",
       "      <td>3.778312</td>\n",
       "    </tr>\n",
       "    <tr>\n",
       "      <th>4</th>\n",
       "      <td>3.320431</td>\n",
       "      <td>2</td>\n",
       "      <td>3.320431</td>\n",
       "      <td>3.320431</td>\n",
       "      <td>3.320431</td>\n",
       "    </tr>\n",
       "  </tbody>\n",
       "</table>\n",
       "</div>"
      ],
      "text/plain": [
       "    bsl_als  rating   bsl_sgd  knn_bsl_u  knn_bsl_m\n",
       "0  3.320431       4  3.320431   3.320431   3.320431\n",
       "1  3.320431       4  3.320431   3.320431   3.320431\n",
       "2  3.320431       3  3.320431   3.320431   3.320431\n",
       "3  3.762526       4  3.765154   3.752313   3.778312\n",
       "4  3.320431       2  3.320431   3.320431   3.320431"
      ]
     },
     "execution_count": 22,
     "metadata": {},
     "output_type": "execute_result"
    }
   ],
   "source": [
    "#test data\n",
    "print(xgb_test.shape[0])\n",
    "xgb_test.head()"
   ]
  },
  {
   "cell_type": "code",
   "execution_count": 23,
   "metadata": {},
   "outputs": [],
   "source": [
    "xgb_train.to_csv(\"sur_xgb_train.csv\")\n",
    "xgb_test.to_csv(\"sur_xgb_test.csv\")"
   ]
  },
  {
   "cell_type": "markdown",
   "metadata": {},
   "source": [
    "# MatrixFactorization Technique "
   ]
  },
  {
   "cell_type": "markdown",
   "metadata": {},
   "source": [
    "<h2> 1) SVD--> </h2>"
   ]
  },
  {
   "cell_type": "code",
   "execution_count": 15,
   "metadata": {},
   "outputs": [
    {
     "name": "stdout",
     "output_type": "stream",
     "text": [
      "0.9902716091506271\n",
      "{'n_epochs': 20, 'lr_all': 0.005, 'reg_all': 0.4}\n",
      "Time Taken: 0:09:30.898657\n"
     ]
    }
   ],
   "source": [
    "start=dt.datetime.now()\n",
    "param_grid = {'n_epochs': [15, 20], 'lr_all': [0.002, 0.005],\n",
    "              'reg_all': [0.4, 0.6]}\n",
    "svd_mf = GridSearchCV(SVD, param_grid, measures=['rmse', 'mae'], cv=3)\n",
    "\n",
    "svd_mf.fit(data)\n",
    "# best RMSE score\n",
    "print(svd_mf.best_score['rmse'])\n",
    "\n",
    "# combination of parameters that gave the best RMSE score\n",
    "print(svd_mf.best_params['rmse'])\n",
    "print(\"Time Taken:\",dt.datetime.now()-start)"
   ]
  },
  {
   "cell_type": "code",
   "execution_count": 16,
   "metadata": {},
   "outputs": [
    {
     "name": "stdout",
     "output_type": "stream",
     "text": [
      "---------------------------------------------------------------------------\n",
      "RMSE: 0.9700\n",
      "RMSE on Train data: 0.9700067472902676\n",
      "RMSE: 1.1293\n",
      "RMSE on Test data: 1.1292838008300456\n"
     ]
    }
   ],
   "source": [
    "algo = svd_mf.best_estimator['rmse']\n",
    "algo.fit(train_data)\n",
    "print('-'*75)\n",
    "#print(\"Accuracy for k={} and min_k={} :\".format(k,min_k))\n",
    "predictions = algo.test(train_data.build_testset())\n",
    "print(\"RMSE on Train data:\",accuracy.rmse(predictions))\n",
    "\n",
    "predictions = algo.test(testset)\n",
    "print(\"RMSE on Test data:\",accuracy.rmse(predictions))\n",
    "#RMSE[(k,min_k)]=accuracy.rmse(predictions)\n"
   ]
  },
  {
   "cell_type": "markdown",
   "metadata": {},
   "source": [
    "#  Storing SVD result for Xgb feature"
   ]
  },
  {
   "cell_type": "code",
   "execution_count": 17,
   "metadata": {},
   "outputs": [],
   "source": [
    "#preparing train data for xgboost algo\n",
    "train_predictions = algo.test(train_data.build_testset())\n",
    "xgb_train['svd']=[train_predictions[i][3] for i in range(df.shape[0])]\n",
    "\n",
    "#preparing test data for xgboost algo\n",
    "test_predictions = algo.test(testset)\n",
    "xgb_test['svd']=[test_predictions[i][3] for i in range(test.shape[0])]"
   ]
  },
  {
   "cell_type": "code",
   "execution_count": 18,
   "metadata": {},
   "outputs": [
    {
     "name": "stdout",
     "output_type": "stream",
     "text": [
      "325000\n"
     ]
    },
    {
     "data": {
      "text/html": [
       "<div>\n",
       "<style scoped>\n",
       "    .dataframe tbody tr th:only-of-type {\n",
       "        vertical-align: middle;\n",
       "    }\n",
       "\n",
       "    .dataframe tbody tr th {\n",
       "        vertical-align: top;\n",
       "    }\n",
       "\n",
       "    .dataframe thead th {\n",
       "        text-align: right;\n",
       "    }\n",
       "</style>\n",
       "<table border=\"1\" class=\"dataframe\">\n",
       "  <thead>\n",
       "    <tr style=\"text-align: right;\">\n",
       "      <th></th>\n",
       "      <th>Unnamed: 0</th>\n",
       "      <th>bsl_als</th>\n",
       "      <th>rating</th>\n",
       "      <th>bsl_sgd</th>\n",
       "      <th>knn_bsl_u</th>\n",
       "      <th>knn_bsl_m</th>\n",
       "      <th>svd</th>\n",
       "      <th>svdpp</th>\n",
       "    </tr>\n",
       "  </thead>\n",
       "  <tbody>\n",
       "    <tr>\n",
       "      <th>0</th>\n",
       "      <td>0</td>\n",
       "      <td>2.982229</td>\n",
       "      <td>3</td>\n",
       "      <td>2.934491</td>\n",
       "      <td>3.501707</td>\n",
       "      <td>3.123193</td>\n",
       "      <td>2.974068</td>\n",
       "      <td>3.269938</td>\n",
       "    </tr>\n",
       "    <tr>\n",
       "      <th>1</th>\n",
       "      <td>1</td>\n",
       "      <td>3.338582</td>\n",
       "      <td>5</td>\n",
       "      <td>3.325061</td>\n",
       "      <td>4.193401</td>\n",
       "      <td>4.048718</td>\n",
       "      <td>3.360347</td>\n",
       "      <td>4.312451</td>\n",
       "    </tr>\n",
       "    <tr>\n",
       "      <th>2</th>\n",
       "      <td>2</td>\n",
       "      <td>3.160165</td>\n",
       "      <td>2</td>\n",
       "      <td>3.162555</td>\n",
       "      <td>2.524109</td>\n",
       "      <td>2.829673</td>\n",
       "      <td>3.224793</td>\n",
       "      <td>2.639212</td>\n",
       "    </tr>\n",
       "    <tr>\n",
       "      <th>3</th>\n",
       "      <td>3</td>\n",
       "      <td>3.187672</td>\n",
       "      <td>5</td>\n",
       "      <td>3.172830</td>\n",
       "      <td>4.294582</td>\n",
       "      <td>3.527573</td>\n",
       "      <td>3.234192</td>\n",
       "      <td>3.836601</td>\n",
       "    </tr>\n",
       "    <tr>\n",
       "      <th>4</th>\n",
       "      <td>4</td>\n",
       "      <td>2.939256</td>\n",
       "      <td>4</td>\n",
       "      <td>2.943452</td>\n",
       "      <td>3.625873</td>\n",
       "      <td>3.503570</td>\n",
       "      <td>3.110356</td>\n",
       "      <td>3.412265</td>\n",
       "    </tr>\n",
       "  </tbody>\n",
       "</table>\n",
       "</div>"
      ],
      "text/plain": [
       "   Unnamed: 0   bsl_als  rating   bsl_sgd  knn_bsl_u  knn_bsl_m       svd  \\\n",
       "0           0  2.982229       3  2.934491   3.501707   3.123193  2.974068   \n",
       "1           1  3.338582       5  3.325061   4.193401   4.048718  3.360347   \n",
       "2           2  3.160165       2  3.162555   2.524109   2.829673  3.224793   \n",
       "3           3  3.187672       5  3.172830   4.294582   3.527573  3.234192   \n",
       "4           4  2.939256       4  2.943452   3.625873   3.503570  3.110356   \n",
       "\n",
       "      svdpp  \n",
       "0  3.269938  \n",
       "1  4.312451  \n",
       "2  2.639212  \n",
       "3  3.836601  \n",
       "4  3.412265  "
      ]
     },
     "execution_count": 18,
     "metadata": {},
     "output_type": "execute_result"
    }
   ],
   "source": [
    "#train data\n",
    "print(xgb_train.shape[0])\n",
    "xgb_train.head()"
   ]
  },
  {
   "cell_type": "code",
   "execution_count": 19,
   "metadata": {},
   "outputs": [
    {
     "name": "stdout",
     "output_type": "stream",
     "text": [
      "22000\n"
     ]
    },
    {
     "data": {
      "text/html": [
       "<div>\n",
       "<style scoped>\n",
       "    .dataframe tbody tr th:only-of-type {\n",
       "        vertical-align: middle;\n",
       "    }\n",
       "\n",
       "    .dataframe tbody tr th {\n",
       "        vertical-align: top;\n",
       "    }\n",
       "\n",
       "    .dataframe thead th {\n",
       "        text-align: right;\n",
       "    }\n",
       "</style>\n",
       "<table border=\"1\" class=\"dataframe\">\n",
       "  <thead>\n",
       "    <tr style=\"text-align: right;\">\n",
       "      <th></th>\n",
       "      <th>Unnamed: 0</th>\n",
       "      <th>bsl_als</th>\n",
       "      <th>rating</th>\n",
       "      <th>bsl_sgd</th>\n",
       "      <th>knn_bsl_u</th>\n",
       "      <th>knn_bsl_m</th>\n",
       "      <th>svd</th>\n",
       "      <th>svdpp</th>\n",
       "    </tr>\n",
       "  </thead>\n",
       "  <tbody>\n",
       "    <tr>\n",
       "      <th>0</th>\n",
       "      <td>0</td>\n",
       "      <td>3.320431</td>\n",
       "      <td>4</td>\n",
       "      <td>3.320431</td>\n",
       "      <td>3.320431</td>\n",
       "      <td>3.320431</td>\n",
       "      <td>3.320431</td>\n",
       "      <td>3.320431</td>\n",
       "    </tr>\n",
       "    <tr>\n",
       "      <th>1</th>\n",
       "      <td>1</td>\n",
       "      <td>3.320431</td>\n",
       "      <td>4</td>\n",
       "      <td>3.320431</td>\n",
       "      <td>3.320431</td>\n",
       "      <td>3.320431</td>\n",
       "      <td>3.320431</td>\n",
       "      <td>3.320431</td>\n",
       "    </tr>\n",
       "    <tr>\n",
       "      <th>2</th>\n",
       "      <td>2</td>\n",
       "      <td>3.320431</td>\n",
       "      <td>3</td>\n",
       "      <td>3.320431</td>\n",
       "      <td>3.320431</td>\n",
       "      <td>3.320431</td>\n",
       "      <td>3.320431</td>\n",
       "      <td>3.320431</td>\n",
       "    </tr>\n",
       "    <tr>\n",
       "      <th>3</th>\n",
       "      <td>3</td>\n",
       "      <td>3.762526</td>\n",
       "      <td>4</td>\n",
       "      <td>3.765154</td>\n",
       "      <td>3.752313</td>\n",
       "      <td>3.778312</td>\n",
       "      <td>3.594425</td>\n",
       "      <td>3.616334</td>\n",
       "    </tr>\n",
       "    <tr>\n",
       "      <th>4</th>\n",
       "      <td>4</td>\n",
       "      <td>3.320431</td>\n",
       "      <td>2</td>\n",
       "      <td>3.320431</td>\n",
       "      <td>3.320431</td>\n",
       "      <td>3.320431</td>\n",
       "      <td>3.320431</td>\n",
       "      <td>3.320431</td>\n",
       "    </tr>\n",
       "  </tbody>\n",
       "</table>\n",
       "</div>"
      ],
      "text/plain": [
       "   Unnamed: 0   bsl_als  rating   bsl_sgd  knn_bsl_u  knn_bsl_m       svd  \\\n",
       "0           0  3.320431       4  3.320431   3.320431   3.320431  3.320431   \n",
       "1           1  3.320431       4  3.320431   3.320431   3.320431  3.320431   \n",
       "2           2  3.320431       3  3.320431   3.320431   3.320431  3.320431   \n",
       "3           3  3.762526       4  3.765154   3.752313   3.778312  3.594425   \n",
       "4           4  3.320431       2  3.320431   3.320431   3.320431  3.320431   \n",
       "\n",
       "      svdpp  \n",
       "0  3.320431  \n",
       "1  3.320431  \n",
       "2  3.320431  \n",
       "3  3.616334  \n",
       "4  3.320431  "
      ]
     },
     "execution_count": 19,
     "metadata": {},
     "output_type": "execute_result"
    }
   ],
   "source": [
    "#test data\n",
    "print(xgb_test.shape[0])\n",
    "xgb_test.head()"
   ]
  },
  {
   "cell_type": "code",
   "execution_count": 9,
   "metadata": {},
   "outputs": [],
   "source": [
    "xgb_train=pd.read_csv(\"sur_xgb_train.csv\")\n",
    "xgb_test=pd.read_csv(\"sur_xgb_test.csv\")"
   ]
  },
  {
   "cell_type": "markdown",
   "metadata": {},
   "source": [
    "<h2> 2) SVD++ </h2>"
   ]
  },
  {
   "cell_type": "code",
   "execution_count": 6,
   "metadata": {},
   "outputs": [
    {
     "name": "stdout",
     "output_type": "stream",
     "text": [
      " processing epoch 0\n",
      " processing epoch 1\n",
      " processing epoch 2\n",
      " processing epoch 3\n",
      " processing epoch 4\n",
      " processing epoch 5\n",
      " processing epoch 6\n",
      " processing epoch 7\n",
      " processing epoch 8\n",
      " processing epoch 9\n",
      " processing epoch 10\n",
      " processing epoch 11\n",
      " processing epoch 12\n",
      " processing epoch 13\n",
      " processing epoch 14\n",
      "RMSE: 0.7372\n",
      "RMSE on Train data: 0.7371690853019706\n",
      "RMSE: 1.1293\n",
      "RMSE on Test data: 1.1293330294767276\n",
      "Time Taken: 0:30:30.823790\n"
     ]
    }
   ],
   "source": [
    "start=dt.datetime.now()\n",
    "svdpp=SVDpp(n_epochs=15,n_factors=50, random_state=15, verbose=True)\n",
    "svdpp.fit(train_data)\n",
    "\n",
    "predictions = svdpp.test(train_data.build_testset())\n",
    "print(\"RMSE on Train data:\",accuracy.rmse(predictions))\n",
    "\n",
    "predictions = svdpp.test(testset)\n",
    "print(\"RMSE on Test data:\",accuracy.rmse(predictions))\n",
    "print(\"Time Taken:\",dt.datetime.now()-start)"
   ]
  },
  {
   "cell_type": "code",
   "execution_count": null,
   "metadata": {},
   "outputs": [],
   "source": [
    "start=dt.datetime.now()\n",
    "param_grid = {'n_epochs': [25, 30], 'lr_all': [0.002, 0.005],\n",
    "              'reg_all': [0.4, 0.6]}\n",
    "svdpp_mf = GridSearchCV(SVDpp, param_grid, measures=['rmse', 'mae'], cv=3)\n",
    "\n",
    "svdpp_mf.fit(data)\n",
    "# best RMSE score\n",
    "print(svdpp_mf.best_score['rmse'])\n",
    "\n",
    "# combination of parameters that gave the best RMSE score\n",
    "print(svdpp_mf.best_params['rmse'])\n",
    "\n",
    "\n",
    "algo = svdpp_mf.best_estimator['rmse']\n",
    "algo.fit(train_data)\n",
    "print('-'*75)\n",
    "\n",
    "predictions = algo.test(train_data.build_testset())\n",
    "print(\"RMSE on Train data:\",accuracy.rmse(predictions))\n",
    "\n",
    "predictions = algo.test(testset)\n",
    "print(\"RMSE on Test data:\",accuracy.rmse(predictions))\n",
    "\n",
    "print(\"Time Taken:\",dt.datetime.now()-start)"
   ]
  },
  {
   "cell_type": "markdown",
   "metadata": {},
   "source": [
    "# Storing SVDpp result for Xgb feature"
   ]
  },
  {
   "cell_type": "code",
   "execution_count": 12,
   "metadata": {},
   "outputs": [],
   "source": [
    "#preparing train data for xgboost algo\n",
    "train_predictions = svdpp.test(train_data.build_testset())\n",
    "xgb_train['svdpp']=[train_predictions[i][3] for i in range(df.shape[0])]\n",
    "\n",
    "#preparing test data for xgboost algo\n",
    "test_predictions = svdpp.test(testset)\n",
    "xgb_test['svdpp']=[test_predictions[i][3] for i in range(test.shape[0])]"
   ]
  },
  {
   "cell_type": "code",
   "execution_count": 20,
   "metadata": {},
   "outputs": [
    {
     "name": "stdout",
     "output_type": "stream",
     "text": [
      "325000\n"
     ]
    },
    {
     "data": {
      "text/html": [
       "<div>\n",
       "<style scoped>\n",
       "    .dataframe tbody tr th:only-of-type {\n",
       "        vertical-align: middle;\n",
       "    }\n",
       "\n",
       "    .dataframe tbody tr th {\n",
       "        vertical-align: top;\n",
       "    }\n",
       "\n",
       "    .dataframe thead th {\n",
       "        text-align: right;\n",
       "    }\n",
       "</style>\n",
       "<table border=\"1\" class=\"dataframe\">\n",
       "  <thead>\n",
       "    <tr style=\"text-align: right;\">\n",
       "      <th></th>\n",
       "      <th>Unnamed: 0</th>\n",
       "      <th>bsl_als</th>\n",
       "      <th>rating</th>\n",
       "      <th>bsl_sgd</th>\n",
       "      <th>knn_bsl_u</th>\n",
       "      <th>knn_bsl_m</th>\n",
       "      <th>svd</th>\n",
       "      <th>svdpp</th>\n",
       "    </tr>\n",
       "  </thead>\n",
       "  <tbody>\n",
       "    <tr>\n",
       "      <th>0</th>\n",
       "      <td>0</td>\n",
       "      <td>2.982229</td>\n",
       "      <td>3</td>\n",
       "      <td>2.934491</td>\n",
       "      <td>3.501707</td>\n",
       "      <td>3.123193</td>\n",
       "      <td>2.974068</td>\n",
       "      <td>3.269938</td>\n",
       "    </tr>\n",
       "    <tr>\n",
       "      <th>1</th>\n",
       "      <td>1</td>\n",
       "      <td>3.338582</td>\n",
       "      <td>5</td>\n",
       "      <td>3.325061</td>\n",
       "      <td>4.193401</td>\n",
       "      <td>4.048718</td>\n",
       "      <td>3.360347</td>\n",
       "      <td>4.312451</td>\n",
       "    </tr>\n",
       "    <tr>\n",
       "      <th>2</th>\n",
       "      <td>2</td>\n",
       "      <td>3.160165</td>\n",
       "      <td>2</td>\n",
       "      <td>3.162555</td>\n",
       "      <td>2.524109</td>\n",
       "      <td>2.829673</td>\n",
       "      <td>3.224793</td>\n",
       "      <td>2.639212</td>\n",
       "    </tr>\n",
       "    <tr>\n",
       "      <th>3</th>\n",
       "      <td>3</td>\n",
       "      <td>3.187672</td>\n",
       "      <td>5</td>\n",
       "      <td>3.172830</td>\n",
       "      <td>4.294582</td>\n",
       "      <td>3.527573</td>\n",
       "      <td>3.234192</td>\n",
       "      <td>3.836601</td>\n",
       "    </tr>\n",
       "    <tr>\n",
       "      <th>4</th>\n",
       "      <td>4</td>\n",
       "      <td>2.939256</td>\n",
       "      <td>4</td>\n",
       "      <td>2.943452</td>\n",
       "      <td>3.625873</td>\n",
       "      <td>3.503570</td>\n",
       "      <td>3.110356</td>\n",
       "      <td>3.412265</td>\n",
       "    </tr>\n",
       "  </tbody>\n",
       "</table>\n",
       "</div>"
      ],
      "text/plain": [
       "   Unnamed: 0   bsl_als  rating   bsl_sgd  knn_bsl_u  knn_bsl_m       svd  \\\n",
       "0           0  2.982229       3  2.934491   3.501707   3.123193  2.974068   \n",
       "1           1  3.338582       5  3.325061   4.193401   4.048718  3.360347   \n",
       "2           2  3.160165       2  3.162555   2.524109   2.829673  3.224793   \n",
       "3           3  3.187672       5  3.172830   4.294582   3.527573  3.234192   \n",
       "4           4  2.939256       4  2.943452   3.625873   3.503570  3.110356   \n",
       "\n",
       "      svdpp  \n",
       "0  3.269938  \n",
       "1  4.312451  \n",
       "2  2.639212  \n",
       "3  3.836601  \n",
       "4  3.412265  "
      ]
     },
     "execution_count": 20,
     "metadata": {},
     "output_type": "execute_result"
    }
   ],
   "source": [
    "#train data\n",
    "print(xgb_train.shape[0])\n",
    "xgb_train.head()"
   ]
  },
  {
   "cell_type": "code",
   "execution_count": 21,
   "metadata": {},
   "outputs": [
    {
     "name": "stdout",
     "output_type": "stream",
     "text": [
      "22000\n"
     ]
    },
    {
     "data": {
      "text/html": [
       "<div>\n",
       "<style scoped>\n",
       "    .dataframe tbody tr th:only-of-type {\n",
       "        vertical-align: middle;\n",
       "    }\n",
       "\n",
       "    .dataframe tbody tr th {\n",
       "        vertical-align: top;\n",
       "    }\n",
       "\n",
       "    .dataframe thead th {\n",
       "        text-align: right;\n",
       "    }\n",
       "</style>\n",
       "<table border=\"1\" class=\"dataframe\">\n",
       "  <thead>\n",
       "    <tr style=\"text-align: right;\">\n",
       "      <th></th>\n",
       "      <th>Unnamed: 0</th>\n",
       "      <th>bsl_als</th>\n",
       "      <th>rating</th>\n",
       "      <th>bsl_sgd</th>\n",
       "      <th>knn_bsl_u</th>\n",
       "      <th>knn_bsl_m</th>\n",
       "      <th>svd</th>\n",
       "      <th>svdpp</th>\n",
       "    </tr>\n",
       "  </thead>\n",
       "  <tbody>\n",
       "    <tr>\n",
       "      <th>0</th>\n",
       "      <td>0</td>\n",
       "      <td>3.320431</td>\n",
       "      <td>4</td>\n",
       "      <td>3.320431</td>\n",
       "      <td>3.320431</td>\n",
       "      <td>3.320431</td>\n",
       "      <td>3.320431</td>\n",
       "      <td>3.320431</td>\n",
       "    </tr>\n",
       "    <tr>\n",
       "      <th>1</th>\n",
       "      <td>1</td>\n",
       "      <td>3.320431</td>\n",
       "      <td>4</td>\n",
       "      <td>3.320431</td>\n",
       "      <td>3.320431</td>\n",
       "      <td>3.320431</td>\n",
       "      <td>3.320431</td>\n",
       "      <td>3.320431</td>\n",
       "    </tr>\n",
       "    <tr>\n",
       "      <th>2</th>\n",
       "      <td>2</td>\n",
       "      <td>3.320431</td>\n",
       "      <td>3</td>\n",
       "      <td>3.320431</td>\n",
       "      <td>3.320431</td>\n",
       "      <td>3.320431</td>\n",
       "      <td>3.320431</td>\n",
       "      <td>3.320431</td>\n",
       "    </tr>\n",
       "    <tr>\n",
       "      <th>3</th>\n",
       "      <td>3</td>\n",
       "      <td>3.762526</td>\n",
       "      <td>4</td>\n",
       "      <td>3.765154</td>\n",
       "      <td>3.752313</td>\n",
       "      <td>3.778312</td>\n",
       "      <td>3.594425</td>\n",
       "      <td>3.616334</td>\n",
       "    </tr>\n",
       "    <tr>\n",
       "      <th>4</th>\n",
       "      <td>4</td>\n",
       "      <td>3.320431</td>\n",
       "      <td>2</td>\n",
       "      <td>3.320431</td>\n",
       "      <td>3.320431</td>\n",
       "      <td>3.320431</td>\n",
       "      <td>3.320431</td>\n",
       "      <td>3.320431</td>\n",
       "    </tr>\n",
       "  </tbody>\n",
       "</table>\n",
       "</div>"
      ],
      "text/plain": [
       "   Unnamed: 0   bsl_als  rating   bsl_sgd  knn_bsl_u  knn_bsl_m       svd  \\\n",
       "0           0  3.320431       4  3.320431   3.320431   3.320431  3.320431   \n",
       "1           1  3.320431       4  3.320431   3.320431   3.320431  3.320431   \n",
       "2           2  3.320431       3  3.320431   3.320431   3.320431  3.320431   \n",
       "3           3  3.762526       4  3.765154   3.752313   3.778312  3.594425   \n",
       "4           4  3.320431       2  3.320431   3.320431   3.320431  3.320431   \n",
       "\n",
       "      svdpp  \n",
       "0  3.320431  \n",
       "1  3.320431  \n",
       "2  3.320431  \n",
       "3  3.616334  \n",
       "4  3.320431  "
      ]
     },
     "execution_count": 21,
     "metadata": {},
     "output_type": "execute_result"
    }
   ],
   "source": [
    "#test data\n",
    "print(xgb_test.shape[0])\n",
    "xgb_test.head()"
   ]
  },
  {
   "cell_type": "code",
   "execution_count": 22,
   "metadata": {},
   "outputs": [],
   "source": [
    "xgb_train.to_csv(\"sur_xgb_train.csv\")\n",
    "xgb_test.to_csv(\"sur_xgb_test.csv\")"
   ]
  },
  {
   "cell_type": "markdown",
   "metadata": {},
   "source": [
    "<h2>Xgboost with Baseline+kNNbaseline{u,m}+MF{SVD,SVD++}</h2>"
   ]
  },
  {
   "cell_type": "code",
   "execution_count": 28,
   "metadata": {},
   "outputs": [],
   "source": [
    "#preparing train and test data\n",
    "\n",
    "y_train=xgb_train['rating']\n",
    "xgb_train=xgb_train.drop(['Unnamed: 0'],axis=1)\n",
    "\n",
    "y_test=xgb_test['rating']\n",
    "xgb_test=xgb_test.drop(['Unnamed: 0'],axis=1)"
   ]
  },
  {
   "cell_type": "code",
   "execution_count": 29,
   "metadata": {},
   "outputs": [
    {
     "data": {
      "text/html": [
       "<div>\n",
       "<style scoped>\n",
       "    .dataframe tbody tr th:only-of-type {\n",
       "        vertical-align: middle;\n",
       "    }\n",
       "\n",
       "    .dataframe tbody tr th {\n",
       "        vertical-align: top;\n",
       "    }\n",
       "\n",
       "    .dataframe thead th {\n",
       "        text-align: right;\n",
       "    }\n",
       "</style>\n",
       "<table border=\"1\" class=\"dataframe\">\n",
       "  <thead>\n",
       "    <tr style=\"text-align: right;\">\n",
       "      <th></th>\n",
       "      <th>bsl_als</th>\n",
       "      <th>bsl_sgd</th>\n",
       "      <th>knn_bsl_u</th>\n",
       "      <th>knn_bsl_m</th>\n",
       "      <th>svd</th>\n",
       "      <th>svdpp</th>\n",
       "    </tr>\n",
       "  </thead>\n",
       "  <tbody>\n",
       "    <tr>\n",
       "      <th>0</th>\n",
       "      <td>2.982229</td>\n",
       "      <td>2.934491</td>\n",
       "      <td>3.501707</td>\n",
       "      <td>3.123193</td>\n",
       "      <td>2.974068</td>\n",
       "      <td>3.269938</td>\n",
       "    </tr>\n",
       "    <tr>\n",
       "      <th>1</th>\n",
       "      <td>3.338582</td>\n",
       "      <td>3.325061</td>\n",
       "      <td>4.193401</td>\n",
       "      <td>4.048718</td>\n",
       "      <td>3.360347</td>\n",
       "      <td>4.312451</td>\n",
       "    </tr>\n",
       "    <tr>\n",
       "      <th>2</th>\n",
       "      <td>3.160165</td>\n",
       "      <td>3.162555</td>\n",
       "      <td>2.524109</td>\n",
       "      <td>2.829673</td>\n",
       "      <td>3.224793</td>\n",
       "      <td>2.639212</td>\n",
       "    </tr>\n",
       "    <tr>\n",
       "      <th>3</th>\n",
       "      <td>3.187672</td>\n",
       "      <td>3.172830</td>\n",
       "      <td>4.294582</td>\n",
       "      <td>3.527573</td>\n",
       "      <td>3.234192</td>\n",
       "      <td>3.836601</td>\n",
       "    </tr>\n",
       "    <tr>\n",
       "      <th>4</th>\n",
       "      <td>2.939256</td>\n",
       "      <td>2.943452</td>\n",
       "      <td>3.625873</td>\n",
       "      <td>3.503570</td>\n",
       "      <td>3.110356</td>\n",
       "      <td>3.412265</td>\n",
       "    </tr>\n",
       "  </tbody>\n",
       "</table>\n",
       "</div>"
      ],
      "text/plain": [
       "    bsl_als   bsl_sgd  knn_bsl_u  knn_bsl_m       svd     svdpp\n",
       "0  2.982229  2.934491   3.501707   3.123193  2.974068  3.269938\n",
       "1  3.338582  3.325061   4.193401   4.048718  3.360347  4.312451\n",
       "2  3.160165  3.162555   2.524109   2.829673  3.224793  2.639212\n",
       "3  3.187672  3.172830   4.294582   3.527573  3.234192  3.836601\n",
       "4  2.939256  2.943452   3.625873   3.503570  3.110356  3.412265"
      ]
     },
     "execution_count": 29,
     "metadata": {},
     "output_type": "execute_result"
    }
   ],
   "source": [
    "xgb_train.head()"
   ]
  },
  {
   "cell_type": "code",
   "execution_count": 30,
   "metadata": {},
   "outputs": [
    {
     "data": {
      "text/plain": [
       "0    3\n",
       "1    5\n",
       "2    2\n",
       "3    5\n",
       "4    4\n",
       "Name: rating, dtype: int64"
      ]
     },
     "execution_count": 30,
     "metadata": {},
     "output_type": "execute_result"
    }
   ],
   "source": [
    "y_train.head()"
   ]
  },
  {
   "cell_type": "code",
   "execution_count": 31,
   "metadata": {},
   "outputs": [
    {
     "data": {
      "text/html": [
       "<div>\n",
       "<style scoped>\n",
       "    .dataframe tbody tr th:only-of-type {\n",
       "        vertical-align: middle;\n",
       "    }\n",
       "\n",
       "    .dataframe tbody tr th {\n",
       "        vertical-align: top;\n",
       "    }\n",
       "\n",
       "    .dataframe thead th {\n",
       "        text-align: right;\n",
       "    }\n",
       "</style>\n",
       "<table border=\"1\" class=\"dataframe\">\n",
       "  <thead>\n",
       "    <tr style=\"text-align: right;\">\n",
       "      <th></th>\n",
       "      <th>bsl_als</th>\n",
       "      <th>bsl_sgd</th>\n",
       "      <th>knn_bsl_u</th>\n",
       "      <th>knn_bsl_m</th>\n",
       "      <th>svd</th>\n",
       "      <th>svdpp</th>\n",
       "    </tr>\n",
       "  </thead>\n",
       "  <tbody>\n",
       "    <tr>\n",
       "      <th>0</th>\n",
       "      <td>3.320431</td>\n",
       "      <td>3.320431</td>\n",
       "      <td>3.320431</td>\n",
       "      <td>3.320431</td>\n",
       "      <td>3.320431</td>\n",
       "      <td>3.320431</td>\n",
       "    </tr>\n",
       "    <tr>\n",
       "      <th>1</th>\n",
       "      <td>3.320431</td>\n",
       "      <td>3.320431</td>\n",
       "      <td>3.320431</td>\n",
       "      <td>3.320431</td>\n",
       "      <td>3.320431</td>\n",
       "      <td>3.320431</td>\n",
       "    </tr>\n",
       "    <tr>\n",
       "      <th>2</th>\n",
       "      <td>3.320431</td>\n",
       "      <td>3.320431</td>\n",
       "      <td>3.320431</td>\n",
       "      <td>3.320431</td>\n",
       "      <td>3.320431</td>\n",
       "      <td>3.320431</td>\n",
       "    </tr>\n",
       "    <tr>\n",
       "      <th>3</th>\n",
       "      <td>3.762526</td>\n",
       "      <td>3.765154</td>\n",
       "      <td>3.752313</td>\n",
       "      <td>3.778312</td>\n",
       "      <td>3.594425</td>\n",
       "      <td>3.616334</td>\n",
       "    </tr>\n",
       "    <tr>\n",
       "      <th>4</th>\n",
       "      <td>3.320431</td>\n",
       "      <td>3.320431</td>\n",
       "      <td>3.320431</td>\n",
       "      <td>3.320431</td>\n",
       "      <td>3.320431</td>\n",
       "      <td>3.320431</td>\n",
       "    </tr>\n",
       "  </tbody>\n",
       "</table>\n",
       "</div>"
      ],
      "text/plain": [
       "    bsl_als   bsl_sgd  knn_bsl_u  knn_bsl_m       svd     svdpp\n",
       "0  3.320431  3.320431   3.320431   3.320431  3.320431  3.320431\n",
       "1  3.320431  3.320431   3.320431   3.320431  3.320431  3.320431\n",
       "2  3.320431  3.320431   3.320431   3.320431  3.320431  3.320431\n",
       "3  3.762526  3.765154   3.752313   3.778312  3.594425  3.616334\n",
       "4  3.320431  3.320431   3.320431   3.320431  3.320431  3.320431"
      ]
     },
     "execution_count": 31,
     "metadata": {},
     "output_type": "execute_result"
    }
   ],
   "source": [
    "xgb_test.head()"
   ]
  },
  {
   "cell_type": "code",
   "execution_count": 32,
   "metadata": {},
   "outputs": [
    {
     "data": {
      "text/plain": [
       "0    4\n",
       "1    4\n",
       "2    3\n",
       "3    4\n",
       "4    2\n",
       "Name: rating, dtype: int64"
      ]
     },
     "execution_count": 32,
     "metadata": {},
     "output_type": "execute_result"
    }
   ],
   "source": [
    "y_test.head()"
   ]
  },
  {
   "cell_type": "code",
   "execution_count": 37,
   "metadata": {},
   "outputs": [
    {
     "name": "stdout",
     "output_type": "stream",
     "text": [
      "Time Taken: 0:13:52.950664\n"
     ]
    }
   ],
   "source": [
    "import numpy as np\n",
    "from xgboost import XGBRegressor\n",
    "from sklearn.model_selection import RandomizedSearchCV\n",
    "start=dt.datetime.now()\n",
    "\n",
    "parameters = {'n_estimators':np.sort(np.random.randint(20,100,20)),'max_depth':np.sort(np.random.randint(3,10,5))}\n",
    "\n",
    "xgbt_clf=RandomizedSearchCV(XGBRegressor(),parameters,n_iter=10)\n",
    "xgbt_clf.fit(xgb_train,y_train,eval_metric='rmse')\n",
    "\n",
    "xgbt_clf.best_params_\n",
    "\n",
    "print(\"Time Taken:\",dt.datetime.now()-start)"
   ]
  },
  {
   "cell_type": "code",
   "execution_count": 38,
   "metadata": {},
   "outputs": [
    {
     "data": {
      "text/plain": [
       "{'max_depth': 3, 'n_estimators': 57}"
      ]
     },
     "execution_count": 38,
     "metadata": {},
     "output_type": "execute_result"
    }
   ],
   "source": [
    "xgbt_clf.best_params_"
   ]
  },
  {
   "cell_type": "markdown",
   "metadata": {},
   "source": [
    "<h2>Xgboost with best hyperparameter</h2>"
   ]
  },
  {
   "cell_type": "code",
   "execution_count": 42,
   "metadata": {},
   "outputs": [
    {
     "name": "stdout",
     "output_type": "stream",
     "text": [
      "RMSE on Train data: 1.1329121160947488\n",
      "RMSE on Test data: 1.145831776118628\n"
     ]
    }
   ],
   "source": [
    "algo=XGBRegressor(max_depth=3, n_estimators=57,n_jobs=10, random_state=15)\n",
    "algo.fit(xgb_train,y_train,eval_metric='rmse')\n",
    "\n",
    "y_pred = algo.predict(xgb_train)\n",
    "rmse=np.sqrt(np.mean([ (y_train[i] - y_pred[i])**2 for i in range(len(y_pred))]))\n",
    "print(\"RMSE on Train data:\",rmse)\n",
    "\n",
    "y_pred = algo.predict(xgb_test)\n",
    "rmse=np.sqrt(np.mean([ (y_test[i] - y_pred[i])**2 for i in range(len(y_pred))]))\n",
    "print(\"RMSE on Test data:\",rmse)\n"
   ]
  },
  {
   "cell_type": "code",
   "execution_count": 45,
   "metadata": {},
   "outputs": [
    {
     "data": {
      "image/png": "[encoded data removed]",
      "text/plain": [
       "<Figure size 432x288 with 1 Axes>"
      ]
     },
     "metadata": {},
     "output_type": "display_data"
    }
   ],
   "source": [
    "import xgboost as xgb\n",
    "import matplotlib.pyplot as plt\n",
    "xgb.plot_importance(algo)\n",
    "plt.show()"
   ]
  },
  {
   "cell_type": "code",
   "execution_count": null,
   "metadata": {},
   "outputs": [],
   "source": []
  }
 ],
 "metadata": {
  "kernelspec": {
   "display_name": "Python 3",
   "language": "python",
   "name": "python3"
  },
  "language_info": {
   "codemirror_mode": {
    "name": "ipython",
    "version": 3
   },
   "file_extension": ".py",
   "mimetype": "text/x-python",
   "name": "python",
   "nbconvert_exporter": "python",
   "pygments_lexer": "ipython3",
   "version": "3.6.4"
  }
 },
 "nbformat": 4,
 "nbformat_minor": 2
}
